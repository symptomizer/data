{
 "cells": [
  {
   "cell_type": "code",
   "execution_count": 30,
   "metadata": {},
   "outputs": [],
   "source": [
    "import numpy as np\n",
    "import pandas as pd\n",
    "import matplotlib.axes as ax\n",
    "from matplotlib import pyplot as plt\n",
    "\n",
    "k_3 = open(\"k_3.txt\", \"r\").read().split(\"\\n\")\n",
    "k_3 = np.array(k_3,dtype=float)\n",
    "\n",
    "k_5 = open(\"k_5.txt\", \"r\").read().split(\"\\n\")\n",
    "k_5 = np.array(k_5,dtype=float)\n",
    "\n",
    "k_10 = open(\"k_10.txt\", \"r\").read().split(\"\\n\")\n",
    "k_10 = np.array(k_10,dtype=float)\n",
    "\n",
    "speeds = open(\"speeds.txt\", \"r\").read().split(\"\\n\")\n",
    "speeds = np.array(speeds,dtype=float)"
   ]
  },
  {
   "cell_type": "code",
   "execution_count": 57,
   "metadata": {},
   "outputs": [
    {
     "name": "stdout",
     "output_type": "stream",
     "text": [
      "k=3: 0.5284905660377359\n",
      "k=5: 0.4814814814814814\n",
      "k=10: 0.4005555555555555\n"
     ]
    },
    {
     "data": {
      "image/png": "[encoded data removed]",
      "text/plain": [
       "<Figure size 432x288 with 1 Axes>"
      ]
     },
     "metadata": {
      "needs_background": "light"
     },
     "output_type": "display_data"
    }
   ],
   "source": [
    "k_3_avg = np.mean(k_3)\n",
    "k_5_avg = np.mean(k_5)\n",
    "k_10_avg = np.mean(k_10)\n",
    "\n",
    "print(f'k=3: {k_3_avg}')\n",
    "print(f'k=5: {k_5_avg}')\n",
    "print(f'k=10: {k_10_avg}')\n",
    "\n",
    "plt.plot(3,k_3_avg, 'ro')\n",
    "plt.plot(5,k_5_avg, 'bo')\n",
    "plt.plot(10,k_10_avg, 'go')\n",
    "\n",
    "plt.show()\n"
   ]
  },
  {
   "cell_type": "code",
   "execution_count": 11,
   "metadata": {},
   "outputs": [
    {
     "name": "stdout",
     "output_type": "stream",
     "text": [
      "1.3208620689655173\n"
     ]
    }
   ],
   "source": [
    "print(np.mean(speeds))"
   ]
  }
 ],
 "metadata": {
  "kernelspec": {
   "display_name": "Python 3",
   "language": "python",
   "name": "python3"
  },
  "language_info": {
   "codemirror_mode": {
    "name": "ipython",
    "version": 3
   },
   "file_extension": ".py",
   "mimetype": "text/x-python",
   "name": "python",
   "nbconvert_exporter": "python",
   "pygments_lexer": "ipython3",
   "version": "3.8.5"
  }
 },
 "nbformat": 4,
 "nbformat_minor": 4
}
